{
 "cells": [
  {
   "cell_type": "code",
   "execution_count": 3,
   "metadata": {},
   "outputs": [
    {
     "ename": "FileNotFoundError",
     "evalue": "[Errno 2] No such file or directory: 'code/2002FemPreg.dct'",
     "output_type": "error",
     "traceback": [
      "\u001b[1;31m---------------------------------------------------------------------------\u001b[0m",
      "\u001b[1;31mFileNotFoundError\u001b[0m                         Traceback (most recent call last)",
      "Cell \u001b[1;32mIn[3], line 6\u001b[0m\n\u001b[0;32m      4\u001b[0m \u001b[38;5;28;01mimport\u001b[39;00m \u001b[38;5;21;01mmath\u001b[39;00m\n\u001b[0;32m      5\u001b[0m \u001b[38;5;28;01mimport\u001b[39;00m \u001b[38;5;21;01mnumpy\u001b[39;00m \u001b[38;5;28;01mas\u001b[39;00m \u001b[38;5;21;01mnp\u001b[39;00m\n\u001b[1;32m----> 6\u001b[0m \u001b[38;5;28;01mimport\u001b[39;00m \u001b[38;5;21;01mnsfg\u001b[39;00m\n",
      "File \u001b[1;32m~\\OneDrive\\Desktop\\NucampFolder\\projects\\ThinkStats2\\code\\nsfg.py:169\u001b[0m\n\u001b[0;32m    163\u001b[0m     main()\n\u001b[0;32m    165\u001b[0m \u001b[38;5;66;03m# Page 11: 1-2 (Create a file named chap01ex.py and write code that reads the respondent file, 2002FemResp.dat.gz. You might want to start with a copy of nsfg.py and modify it…)\u001b[39;00m\n\u001b[0;32m    166\u001b[0m \n\u001b[0;32m    167\u001b[0m \u001b[38;5;66;03m#Select the birthord column, print the value counts, and compare to results published in the codebook\u001b[39;00m\n\u001b[1;32m--> 169\u001b[0m preg \u001b[38;5;241m=\u001b[39m \u001b[43mReadFemPreg\u001b[49m\u001b[43m(\u001b[49m\u001b[43m)\u001b[49m\n\u001b[0;32m    170\u001b[0m \u001b[38;5;28mprint\u001b[39m(preg\u001b[38;5;241m.\u001b[39mbirthord\u001b[38;5;241m.\u001b[39mvalue_counts())\n\u001b[0;32m    172\u001b[0m \u001b[38;5;66;03m#We can also use isnull to count the number of nans.\u001b[39;00m\n",
      "File \u001b[1;32m~\\OneDrive\\Desktop\\NucampFolder\\projects\\ThinkStats2\\code\\nsfg.py:48\u001b[0m, in \u001b[0;36mReadFemPreg\u001b[1;34m(dct_file, dat_file)\u001b[0m\n\u001b[0;32m     39\u001b[0m \u001b[38;5;28;01mdef\u001b[39;00m \u001b[38;5;21mReadFemPreg\u001b[39m(dct_file\u001b[38;5;241m=\u001b[39m\u001b[38;5;124m'\u001b[39m\u001b[38;5;124mcode/2002FemPreg.dct\u001b[39m\u001b[38;5;124m'\u001b[39m,\n\u001b[0;32m     40\u001b[0m                 dat_file\u001b[38;5;241m=\u001b[39m\u001b[38;5;124m'\u001b[39m\u001b[38;5;124mcode/2002FemPreg.dat.gz\u001b[39m\u001b[38;5;124m'\u001b[39m):\n\u001b[0;32m     41\u001b[0m     \u001b[38;5;124;03m\"\"\"Reads the NSFG pregnancy data.\u001b[39;00m\n\u001b[0;32m     42\u001b[0m \n\u001b[0;32m     43\u001b[0m \u001b[38;5;124;03m    dct_file: string file name\u001b[39;00m\n\u001b[1;32m   (...)\u001b[0m\n\u001b[0;32m     46\u001b[0m \u001b[38;5;124;03m    returns: DataFrame\u001b[39;00m\n\u001b[0;32m     47\u001b[0m \u001b[38;5;124;03m    \"\"\"\u001b[39;00m\n\u001b[1;32m---> 48\u001b[0m     dct \u001b[38;5;241m=\u001b[39m \u001b[43mthinkstats2\u001b[49m\u001b[38;5;241;43m.\u001b[39;49m\u001b[43mReadStataDct\u001b[49m\u001b[43m(\u001b[49m\u001b[43mdct_file\u001b[49m\u001b[43m)\u001b[49m\n\u001b[0;32m     49\u001b[0m     df \u001b[38;5;241m=\u001b[39m dct\u001b[38;5;241m.\u001b[39mReadFixedWidth(dat_file, compression\u001b[38;5;241m=\u001b[39m\u001b[38;5;124m'\u001b[39m\u001b[38;5;124mgzip\u001b[39m\u001b[38;5;124m'\u001b[39m)\n\u001b[0;32m     50\u001b[0m     CleanFemPreg(df)\n",
      "File \u001b[1;32m~\\OneDrive\\Desktop\\NucampFolder\\projects\\ThinkStats2\\code\\thinkstats2.py:2847\u001b[0m, in \u001b[0;36mReadStataDct\u001b[1;34m(dct_file, **options)\u001b[0m\n\u001b[0;32m   2843\u001b[0m type_map \u001b[38;5;241m=\u001b[39m \u001b[38;5;28mdict\u001b[39m(byte\u001b[38;5;241m=\u001b[39m\u001b[38;5;28mint\u001b[39m, \u001b[38;5;28mint\u001b[39m\u001b[38;5;241m=\u001b[39m\u001b[38;5;28mint\u001b[39m, long\u001b[38;5;241m=\u001b[39m\u001b[38;5;28mint\u001b[39m, \u001b[38;5;28mfloat\u001b[39m\u001b[38;5;241m=\u001b[39m\u001b[38;5;28mfloat\u001b[39m, \n\u001b[0;32m   2844\u001b[0m                 double\u001b[38;5;241m=\u001b[39m\u001b[38;5;28mfloat\u001b[39m, numeric\u001b[38;5;241m=\u001b[39m\u001b[38;5;28mfloat\u001b[39m)\n\u001b[0;32m   2846\u001b[0m var_info \u001b[38;5;241m=\u001b[39m []\n\u001b[1;32m-> 2847\u001b[0m \u001b[38;5;28;01mwith\u001b[39;00m \u001b[38;5;28mopen\u001b[39m(dct_file, \u001b[38;5;241m*\u001b[39m\u001b[38;5;241m*\u001b[39moptions) \u001b[38;5;28;01mas\u001b[39;00m f:\n\u001b[0;32m   2848\u001b[0m     \u001b[38;5;28;01mfor\u001b[39;00m line \u001b[38;5;129;01min\u001b[39;00m f:\n\u001b[0;32m   2849\u001b[0m         match \u001b[38;5;241m=\u001b[39m re\u001b[38;5;241m.\u001b[39msearch( \u001b[38;5;124mr\u001b[39m\u001b[38;5;124m'\u001b[39m\u001b[38;5;124m_column\u001b[39m\u001b[38;5;124m\\\u001b[39m\u001b[38;5;124m(([^)]*)\u001b[39m\u001b[38;5;124m\\\u001b[39m\u001b[38;5;124m)\u001b[39m\u001b[38;5;124m'\u001b[39m, line)\n",
      "\u001b[1;31mFileNotFoundError\u001b[0m: [Errno 2] No such file or directory: 'code/2002FemPreg.dct'"
     ]
    }
   ],
   "source": [
    "import pandas as pd\n",
    "import thinkstats2\n",
    "import sys\n",
    "import math\n",
    "import numpy as np\n",
    "import nsfg"
   ]
  },
  {
   "cell_type": "markdown",
   "metadata": {},
   "source": [
    "Using data from the NSFG, make a scatter plot of birth weight versus mother's age. Plot the percentiles of birth weight versus mother's age. computer pearson's and spearman's correlations. how would you characterize the relationship between there variables? "
   ]
  },
  {
   "cell_type": "code",
   "execution_count": null,
   "metadata": {},
   "outputs": [],
   "source": [
    "preg = nsfg.ReadFemPreg()\n",
    "live = preg[preg.outcome == 1]"
   ]
  },
  {
   "cell_type": "code",
   "execution_count": null,
   "metadata": {},
   "outputs": [],
   "source": [
    "thinkplot.Scatter()"
   ]
  }
 ],
 "metadata": {
  "kernelspec": {
   "display_name": "Python 3 (ipykernel)",
   "language": "python",
   "name": "python3"
  },
  "language_info": {
   "codemirror_mode": {
    "name": "ipython",
    "version": 3
   },
   "file_extension": ".py",
   "mimetype": "text/x-python",
   "name": "python",
   "nbconvert_exporter": "python",
   "pygments_lexer": "ipython3",
   "version": "3.9.5"
  },
  "vscode": {
   "interpreter": {
    "hash": "369f2c481f4da34e4445cda3fffd2e751bd1c4d706f27375911949ba6bb62e1c"
   }
  }
 },
 "nbformat": 4,
 "nbformat_minor": 2
}
