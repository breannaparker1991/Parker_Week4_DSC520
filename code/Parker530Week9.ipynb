{
 "cells": [
  {
   "cell_type": "markdown",
   "metadata": {},
   "source": [
    "11-1: Suppose one of your co-workers is expecting a baby and you are participing in an office pool to predict the date of birth. assuming that bets are placed during the 30th week of pregnancy, what variables could you use to make the best prediction? You should limit yourself to variables that are known before the birth, and likely to to be available to the people in the pool. "
   ]
  },
  {
   "cell_type": "code",
   "execution_count": 4,
   "metadata": {},
   "outputs": [],
   "source": [
    "import pandas as pd\n",
    "import thinkstats2\n",
    "import thinkplot\n",
    "import sys\n",
    "import math\n",
    "import numpy as np\n",
    "import nsfg\n",
    "import random\n",
    "import hypothesis\n",
    "import statsmodels.formula.api as smf\n",
    "import re"
   ]
  },
  {
   "cell_type": "code",
   "execution_count": null,
   "metadata": {},
   "outputs": [],
   "source": [
    "resp = nsfg.ReadFemResp()\n",
    "live, firsts, others = first.MakeFrames()\n",
    "live = live[live.prglngth > 30]\n",
    "resp.index = resp.caseid\n",
    "join = live.join(resp, on = \"caseid\", rsuffix = '_r')"
   ]
  },
  {
   "cell_type": "code",
   "execution_count": 8,
   "metadata": {},
   "outputs": [
    {
     "data": {
      "text/html": [
       "<table class=\"simpletable\">\n",
       "<caption>OLS Regression Results</caption>\n",
       "<tr>\n",
       "  <th>Dep. Variable:</th>        <td>prglngth</td>     <th>  R-squared:         </th> <td>   0.002</td> \n",
       "</tr>\n",
       "<tr>\n",
       "  <th>Model:</th>                   <td>OLS</td>       <th>  Adj. R-squared:    </th> <td>   0.001</td> \n",
       "</tr>\n",
       "<tr>\n",
       "  <th>Method:</th>             <td>Least Squares</td>  <th>  F-statistic:       </th> <td>   4.485</td> \n",
       "</tr>\n",
       "<tr>\n",
       "  <th>Date:</th>             <td>Mon, 06 Feb 2023</td> <th>  Prob (F-statistic):</th>  <td>0.00376</td> \n",
       "</tr>\n",
       "<tr>\n",
       "  <th>Time:</th>                 <td>14:55:49</td>     <th>  Log-Likelihood:    </th> <td> -18281.</td> \n",
       "</tr>\n",
       "<tr>\n",
       "  <th>No. Observations:</th>      <td>  8878</td>      <th>  AIC:               </th> <td>3.657e+04</td>\n",
       "</tr>\n",
       "<tr>\n",
       "  <th>Df Residuals:</th>          <td>  8874</td>      <th>  BIC:               </th> <td>3.660e+04</td>\n",
       "</tr>\n",
       "<tr>\n",
       "  <th>Df Model:</th>              <td>     3</td>      <th>                     </th>     <td> </td>    \n",
       "</tr>\n",
       "<tr>\n",
       "  <th>Covariance Type:</th>      <td>nonrobust</td>    <th>                     </th>     <td> </td>    \n",
       "</tr>\n",
       "</table>\n",
       "<table class=\"simpletable\">\n",
       "<tr>\n",
       "      <td></td>         <th>coef</th>     <th>std err</th>      <th>t</th>      <th>P>|t|</th>  <th>[0.025</th>    <th>0.975]</th>  \n",
       "</tr>\n",
       "<tr>\n",
       "  <th>Intercept</th> <td>   39.0174</td> <td>    0.111</td> <td>  352.290</td> <td> 0.000</td> <td>   38.800</td> <td>   39.234</td>\n",
       "</tr>\n",
       "<tr>\n",
       "  <th>agepreg</th>   <td>    0.0027</td> <td>    0.004</td> <td>    0.714</td> <td> 0.475</td> <td>   -0.005</td> <td>    0.010</td>\n",
       "</tr>\n",
       "<tr>\n",
       "  <th>babysex</th>   <td>   -0.0534</td> <td>    0.040</td> <td>   -1.325</td> <td> 0.185</td> <td>   -0.132</td> <td>    0.026</td>\n",
       "</tr>\n",
       "<tr>\n",
       "  <th>birthord</th>  <td>   -0.0699</td> <td>    0.021</td> <td>   -3.402</td> <td> 0.001</td> <td>   -0.110</td> <td>   -0.030</td>\n",
       "</tr>\n",
       "</table>\n",
       "<table class=\"simpletable\">\n",
       "<tr>\n",
       "  <th>Omnibus:</th>       <td>1604.998</td> <th>  Durbin-Watson:     </th> <td>   1.629</td>\n",
       "</tr>\n",
       "<tr>\n",
       "  <th>Prob(Omnibus):</th>  <td> 0.000</td>  <th>  Jarque-Bera (JB):  </th> <td>6164.225</td>\n",
       "</tr>\n",
       "<tr>\n",
       "  <th>Skew:</th>           <td>-0.865</td>  <th>  Prob(JB):          </th> <td>    0.00</td>\n",
       "</tr>\n",
       "<tr>\n",
       "  <th>Kurtosis:</th>       <td> 6.698</td>  <th>  Cond. No.          </th> <td>    144.</td>\n",
       "</tr>\n",
       "</table><br/><br/>Notes:<br/>[1] Standard Errors assume that the covariance matrix of the errors is correctly specified."
      ],
      "text/plain": [
       "<class 'statsmodels.iolib.summary.Summary'>\n",
       "\"\"\"\n",
       "                            OLS Regression Results                            \n",
       "==============================================================================\n",
       "Dep. Variable:               prglngth   R-squared:                       0.002\n",
       "Model:                            OLS   Adj. R-squared:                  0.001\n",
       "Method:                 Least Squares   F-statistic:                     4.485\n",
       "Date:                Mon, 06 Feb 2023   Prob (F-statistic):            0.00376\n",
       "Time:                        14:55:49   Log-Likelihood:                -18281.\n",
       "No. Observations:                8878   AIC:                         3.657e+04\n",
       "Df Residuals:                    8874   BIC:                         3.660e+04\n",
       "Df Model:                           3                                         \n",
       "Covariance Type:            nonrobust                                         \n",
       "==============================================================================\n",
       "                 coef    std err          t      P>|t|      [0.025      0.975]\n",
       "------------------------------------------------------------------------------\n",
       "Intercept     39.0174      0.111    352.290      0.000      38.800      39.234\n",
       "agepreg        0.0027      0.004      0.714      0.475      -0.005       0.010\n",
       "babysex       -0.0534      0.040     -1.325      0.185      -0.132       0.026\n",
       "birthord      -0.0699      0.021     -3.402      0.001      -0.110      -0.030\n",
       "==============================================================================\n",
       "Omnibus:                     1604.998   Durbin-Watson:                   1.629\n",
       "Prob(Omnibus):                  0.000   Jarque-Bera (JB):             6164.225\n",
       "Skew:                          -0.865   Prob(JB):                         0.00\n",
       "Kurtosis:                       6.698   Cond. No.                         144.\n",
       "==============================================================================\n",
       "\n",
       "Notes:\n",
       "[1] Standard Errors assume that the covariance matrix of the errors is correctly specified.\n",
       "\"\"\""
      ]
     },
     "execution_count": 8,
     "metadata": {},
     "output_type": "execute_result"
    }
   ],
   "source": [
    "#variables used are age at pregnancy, the baby's sex and if this is the first baby or not. \n",
    "formula = ('prglngth ~ agepreg + babysex + birthord')\n",
    "results = smf.ols(formula, data=join).fit()\n",
    "results.summary()\n"
   ]
  },
  {
   "cell_type": "markdown",
   "metadata": {},
   "source": [
    "11-3: If the quantity you want to predict is a count, you can use poisson regression, which is implemented in StatsModels with a function called poisson. it works the same way as ols and logit. As an exercise, let's use it to predict how many children a woman has born; in the NSFG dataset, this variable is called numbabes. Suppose you meet a woman who is 35 years old, black, and a college graduate whose annual household income exceeds $75,000. How many children woould you predict she has born? "
   ]
  },
  {
   "cell_type": "markdown",
   "metadata": {},
   "source": []
  },
  {
   "cell_type": "markdown",
   "metadata": {},
   "source": []
  },
  {
   "cell_type": "code",
   "execution_count": 10,
   "metadata": {},
   "outputs": [
    {
     "name": "stdout",
     "output_type": "stream",
     "text": [
      "Optimization terminated successfully.\n",
      "         Current function value: 1.691999\n",
      "         Iterations 5\n"
     ]
    },
    {
     "data": {
      "text/html": [
       "<table class=\"simpletable\">\n",
       "<caption>Poisson Regression Results</caption>\n",
       "<tr>\n",
       "  <th>Dep. Variable:</th>       <td>numbabes</td>     <th>  No. Observations:  </th>   <td>  8884</td>  \n",
       "</tr>\n",
       "<tr>\n",
       "  <th>Model:</th>                <td>Poisson</td>     <th>  Df Residuals:      </th>   <td>  8878</td>  \n",
       "</tr>\n",
       "<tr>\n",
       "  <th>Method:</th>                 <td>MLE</td>       <th>  Df Model:          </th>   <td>     5</td>  \n",
       "</tr>\n",
       "<tr>\n",
       "  <th>Date:</th>            <td>Mon, 06 Feb 2023</td> <th>  Pseudo R-squ.:     </th>   <td>0.02825</td> \n",
       "</tr>\n",
       "<tr>\n",
       "  <th>Time:</th>                <td>15:31:14</td>     <th>  Log-Likelihood:    </th>  <td> -15032.</td> \n",
       "</tr>\n",
       "<tr>\n",
       "  <th>converged:</th>             <td>True</td>       <th>  LL-Null:           </th>  <td> -15469.</td> \n",
       "</tr>\n",
       "<tr>\n",
       "  <th>Covariance Type:</th>     <td>nonrobust</td>    <th>  LLR p-value:       </th> <td>1.132e-186</td>\n",
       "</tr>\n",
       "</table>\n",
       "<table class=\"simpletable\">\n",
       "<tr>\n",
       "        <td></td>          <th>coef</th>     <th>std err</th>      <th>z</th>      <th>P>|z|</th>  <th>[0.025</th>    <th>0.975]</th>  \n",
       "</tr>\n",
       "<tr>\n",
       "  <th>Intercept</th>    <td>    1.1569</td> <td>    0.045</td> <td>   25.968</td> <td> 0.000</td> <td>    1.070</td> <td>    1.244</td>\n",
       "</tr>\n",
       "<tr>\n",
       "  <th>C(race)[T.2]</th> <td>   -0.1695</td> <td>    0.014</td> <td>  -11.746</td> <td> 0.000</td> <td>   -0.198</td> <td>   -0.141</td>\n",
       "</tr>\n",
       "<tr>\n",
       "  <th>C(race)[T.3]</th> <td>   -0.1053</td> <td>    0.025</td> <td>   -4.293</td> <td> 0.000</td> <td>   -0.153</td> <td>   -0.057</td>\n",
       "</tr>\n",
       "<tr>\n",
       "  <th>educat</th>       <td>   -0.0561</td> <td>    0.003</td> <td>  -21.182</td> <td> 0.000</td> <td>   -0.061</td> <td>   -0.051</td>\n",
       "</tr>\n",
       "<tr>\n",
       "  <th>age_r</th>        <td>    0.0193</td> <td>    0.001</td> <td>   19.227</td> <td> 0.000</td> <td>    0.017</td> <td>    0.021</td>\n",
       "</tr>\n",
       "<tr>\n",
       "  <th>totinc</th>       <td>   -0.0003</td> <td>    0.000</td> <td>   -1.042</td> <td> 0.297</td> <td>   -0.001</td> <td>    0.000</td>\n",
       "</tr>\n",
       "</table>"
      ],
      "text/plain": [
       "<class 'statsmodels.iolib.summary.Summary'>\n",
       "\"\"\"\n",
       "                          Poisson Regression Results                          \n",
       "==============================================================================\n",
       "Dep. Variable:               numbabes   No. Observations:                 8884\n",
       "Model:                        Poisson   Df Residuals:                     8878\n",
       "Method:                           MLE   Df Model:                            5\n",
       "Date:                Mon, 06 Feb 2023   Pseudo R-squ.:                 0.02825\n",
       "Time:                        15:31:14   Log-Likelihood:                -15032.\n",
       "converged:                       True   LL-Null:                       -15469.\n",
       "Covariance Type:            nonrobust   LLR p-value:                1.132e-186\n",
       "================================================================================\n",
       "                   coef    std err          z      P>|z|      [0.025      0.975]\n",
       "--------------------------------------------------------------------------------\n",
       "Intercept        1.1569      0.045     25.968      0.000       1.070       1.244\n",
       "C(race)[T.2]    -0.1695      0.014    -11.746      0.000      -0.198      -0.141\n",
       "C(race)[T.3]    -0.1053      0.025     -4.293      0.000      -0.153      -0.057\n",
       "educat          -0.0561      0.003    -21.182      0.000      -0.061      -0.051\n",
       "age_r            0.0193      0.001     19.227      0.000       0.017       0.021\n",
       "totinc          -0.0003      0.000     -1.042      0.297      -0.001       0.000\n",
       "================================================================================\n",
       "\"\"\""
      ]
     },
     "execution_count": 10,
     "metadata": {},
     "output_type": "execute_result"
    }
   ],
   "source": [
    "#factors that could affect how many babies someone has and their values\n",
    "formula = ('numbabes ~ C(race) + educat + age_r + totinc')\n",
    "results = smf.poisson(formula, data = join).fit()\n",
    "results.summary()\n"
   ]
  },
  {
   "cell_type": "code",
   "execution_count": 13,
   "metadata": {},
   "outputs": [
    {
     "name": "stdout",
     "output_type": "stream",
     "text": [
      "totincr\n"
     ]
    }
   ],
   "source": []
  },
  {
   "cell_type": "code",
   "execution_count": 16,
   "metadata": {},
   "outputs": [
    {
     "data": {
      "text/plain": [
       "0    2.539338\n",
       "dtype: float64"
      ]
     },
     "execution_count": 16,
     "metadata": {},
     "output_type": "execute_result"
    }
   ],
   "source": [
    "#prediction model\n",
    "columns = ['age_r','race', 'totinc', 'educat']\n",
    "new = pd.DataFrame([[35, 1, 14, 16]], columns = columns)\n",
    "y = results.predict(new)\n",
    "y\n",
    "#about 2.5 children!!! "
   ]
  },
  {
   "cell_type": "markdown",
   "metadata": {},
   "source": [
    "11-4: If the quantity you want to rpedict is categorical, you can use multinomial logistic regression, which is implemented in StatsModels with a function called mnlogit. As an exercise, let's use it to guess whether a woman is married, cohabitating, widowed, divorced, separated, or never married; int he NSFG dataset, marital status is enconded in a variable called rmarital. Suppose you meet a woman who is 25 years old, white, adn a high school graduate whose annual housebold income is about $45,000. What is the probability that she is married, cohabitating, etc? "
   ]
  },
  {
   "cell_type": "code",
   "execution_count": 22,
   "metadata": {},
   "outputs": [
    {
     "name": "stdout",
     "output_type": "stream",
     "text": [
      "Optimization terminated successfully.\n",
      "         Current function value: 1.152503\n",
      "         Iterations 8\n"
     ]
    },
    {
     "data": {
      "text/html": [
       "<table class=\"simpletable\">\n",
       "<caption>MNLogit Regression Results</caption>\n",
       "<tr>\n",
       "  <th>Dep. Variable:</th>       <td>rmarital</td>     <th>  No. Observations:  </th>  <td>  8884</td> \n",
       "</tr>\n",
       "<tr>\n",
       "  <th>Model:</th>                <td>MNLogit</td>     <th>  Df Residuals:      </th>  <td>  8854</td> \n",
       "</tr>\n",
       "<tr>\n",
       "  <th>Method:</th>                 <td>MLE</td>       <th>  Df Model:          </th>  <td>    25</td> \n",
       "</tr>\n",
       "<tr>\n",
       "  <th>Date:</th>            <td>Mon, 06 Feb 2023</td> <th>  Pseudo R-squ.:     </th>  <td>0.1157</td> \n",
       "</tr>\n",
       "<tr>\n",
       "  <th>Time:</th>                <td>16:28:09</td>     <th>  Log-Likelihood:    </th> <td> -10239.</td>\n",
       "</tr>\n",
       "<tr>\n",
       "  <th>converged:</th>             <td>True</td>       <th>  LL-Null:           </th> <td> -11579.</td>\n",
       "</tr>\n",
       "<tr>\n",
       "  <th>Covariance Type:</th>     <td>nonrobust</td>    <th>  LLR p-value:       </th>  <td> 0.000</td> \n",
       "</tr>\n",
       "</table>\n",
       "<table class=\"simpletable\">\n",
       "<tr>\n",
       "   <th>rmarital=2</th>     <th>coef</th>     <th>std err</th>      <th>z</th>      <th>P>|z|</th>  <th>[0.025</th>    <th>0.975]</th>  \n",
       "</tr>\n",
       "<tr>\n",
       "  <th>Intercept</th>    <td>    4.7896</td> <td>    0.279</td> <td>   17.191</td> <td> 0.000</td> <td>    4.244</td> <td>    5.336</td>\n",
       "</tr>\n",
       "<tr>\n",
       "  <th>C(race)[T.2]</th> <td>   -1.0355</td> <td>    0.088</td> <td>  -11.823</td> <td> 0.000</td> <td>   -1.207</td> <td>   -0.864</td>\n",
       "</tr>\n",
       "<tr>\n",
       "  <th>C(race)[T.3]</th> <td>   -0.6363</td> <td>    0.134</td> <td>   -4.739</td> <td> 0.000</td> <td>   -0.899</td> <td>   -0.373</td>\n",
       "</tr>\n",
       "<tr>\n",
       "  <th>educat</th>       <td>   -0.2858</td> <td>    0.018</td> <td>  -16.329</td> <td> 0.000</td> <td>   -0.320</td> <td>   -0.252</td>\n",
       "</tr>\n",
       "<tr>\n",
       "  <th>age_r</th>        <td>   -0.0662</td> <td>    0.006</td> <td>  -11.468</td> <td> 0.000</td> <td>   -0.077</td> <td>   -0.055</td>\n",
       "</tr>\n",
       "<tr>\n",
       "  <th>totinc</th>       <td>   -0.0061</td> <td>    0.002</td> <td>   -3.427</td> <td> 0.001</td> <td>   -0.010</td> <td>   -0.003</td>\n",
       "</tr>\n",
       "<tr>\n",
       "   <th>rmarital=3</th>     <th>coef</th>     <th>std err</th>      <th>z</th>      <th>P>|z|</th>  <th>[0.025</th>    <th>0.975]</th>  \n",
       "</tr>\n",
       "<tr>\n",
       "  <th>Intercept</th>    <td>   -3.9922</td> <td>    0.907</td> <td>   -4.403</td> <td> 0.000</td> <td>   -5.769</td> <td>   -2.215</td>\n",
       "</tr>\n",
       "<tr>\n",
       "  <th>C(race)[T.2]</th> <td>   -0.6376</td> <td>    0.235</td> <td>   -2.713</td> <td> 0.007</td> <td>   -1.098</td> <td>   -0.177</td>\n",
       "</tr>\n",
       "<tr>\n",
       "  <th>C(race)[T.3]</th> <td>    0.1105</td> <td>    0.332</td> <td>    0.332</td> <td> 0.740</td> <td>   -0.541</td> <td>    0.762</td>\n",
       "</tr>\n",
       "<tr>\n",
       "  <th>educat</th>       <td>   -0.2871</td> <td>    0.045</td> <td>   -6.428</td> <td> 0.000</td> <td>   -0.375</td> <td>   -0.200</td>\n",
       "</tr>\n",
       "<tr>\n",
       "  <th>age_r</th>        <td>    0.1099</td> <td>    0.019</td> <td>    5.800</td> <td> 0.000</td> <td>    0.073</td> <td>    0.147</td>\n",
       "</tr>\n",
       "<tr>\n",
       "  <th>totinc</th>       <td>    0.0041</td> <td>    0.003</td> <td>    1.240</td> <td> 0.215</td> <td>   -0.002</td> <td>    0.011</td>\n",
       "</tr>\n",
       "<tr>\n",
       "   <th>rmarital=4</th>     <th>coef</th>     <th>std err</th>      <th>z</th>      <th>P>|z|</th>  <th>[0.025</th>    <th>0.975]</th>  \n",
       "</tr>\n",
       "<tr>\n",
       "  <th>Intercept</th>    <td>   -2.0452</td> <td>    0.294</td> <td>   -6.965</td> <td> 0.000</td> <td>   -2.621</td> <td>   -1.470</td>\n",
       "</tr>\n",
       "<tr>\n",
       "  <th>C(race)[T.2]</th> <td>   -0.5078</td> <td>    0.091</td> <td>   -5.604</td> <td> 0.000</td> <td>   -0.685</td> <td>   -0.330</td>\n",
       "</tr>\n",
       "<tr>\n",
       "  <th>C(race)[T.3]</th> <td>   -0.7637</td> <td>    0.167</td> <td>   -4.560</td> <td> 0.000</td> <td>   -1.092</td> <td>   -0.435</td>\n",
       "</tr>\n",
       "<tr>\n",
       "  <th>educat</th>       <td>   -0.0717</td> <td>    0.015</td> <td>   -4.865</td> <td> 0.000</td> <td>   -0.101</td> <td>   -0.043</td>\n",
       "</tr>\n",
       "<tr>\n",
       "  <th>age_r</th>        <td>    0.0495</td> <td>    0.006</td> <td>    7.743</td> <td> 0.000</td> <td>    0.037</td> <td>    0.062</td>\n",
       "</tr>\n",
       "<tr>\n",
       "  <th>totinc</th>       <td>   -0.0091</td> <td>    0.002</td> <td>   -4.250</td> <td> 0.000</td> <td>   -0.013</td> <td>   -0.005</td>\n",
       "</tr>\n",
       "<tr>\n",
       "   <th>rmarital=5</th>     <th>coef</th>     <th>std err</th>      <th>z</th>      <th>P>|z|</th>  <th>[0.025</th>    <th>0.975]</th>  \n",
       "</tr>\n",
       "<tr>\n",
       "  <th>Intercept</th>    <td>    1.5688</td> <td>    0.333</td> <td>    4.713</td> <td> 0.000</td> <td>    0.916</td> <td>    2.221</td>\n",
       "</tr>\n",
       "<tr>\n",
       "  <th>C(race)[T.2]</th> <td>   -1.2782</td> <td>    0.100</td> <td>  -12.763</td> <td> 0.000</td> <td>   -1.475</td> <td>   -1.082</td>\n",
       "</tr>\n",
       "<tr>\n",
       "  <th>C(race)[T.3]</th> <td>   -0.5778</td> <td>    0.151</td> <td>   -3.835</td> <td> 0.000</td> <td>   -0.873</td> <td>   -0.283</td>\n",
       "</tr>\n",
       "<tr>\n",
       "  <th>educat</th>       <td>   -0.1849</td> <td>    0.019</td> <td>   -9.517</td> <td> 0.000</td> <td>   -0.223</td> <td>   -0.147</td>\n",
       "</tr>\n",
       "<tr>\n",
       "  <th>age_r</th>        <td>   -0.0117</td> <td>    0.007</td> <td>   -1.660</td> <td> 0.097</td> <td>   -0.026</td> <td>    0.002</td>\n",
       "</tr>\n",
       "<tr>\n",
       "  <th>totinc</th>       <td>   -0.0117</td> <td>    0.003</td> <td>   -4.433</td> <td> 0.000</td> <td>   -0.017</td> <td>   -0.007</td>\n",
       "</tr>\n",
       "<tr>\n",
       "   <th>rmarital=6</th>     <th>coef</th>     <th>std err</th>      <th>z</th>      <th>P>|z|</th>  <th>[0.025</th>    <th>0.975]</th>  \n",
       "</tr>\n",
       "<tr>\n",
       "  <th>Intercept</th>    <td>    6.8653</td> <td>    0.263</td> <td>   26.142</td> <td> 0.000</td> <td>    6.351</td> <td>    7.380</td>\n",
       "</tr>\n",
       "<tr>\n",
       "  <th>C(race)[T.2]</th> <td>   -2.3879</td> <td>    0.076</td> <td>  -31.255</td> <td> 0.000</td> <td>   -2.538</td> <td>   -2.238</td>\n",
       "</tr>\n",
       "<tr>\n",
       "  <th>C(race)[T.3]</th> <td>   -1.9798</td> <td>    0.133</td> <td>  -14.925</td> <td> 0.000</td> <td>   -2.240</td> <td>   -1.720</td>\n",
       "</tr>\n",
       "<tr>\n",
       "  <th>educat</th>       <td>   -0.2437</td> <td>    0.016</td> <td>  -15.153</td> <td> 0.000</td> <td>   -0.275</td> <td>   -0.212</td>\n",
       "</tr>\n",
       "<tr>\n",
       "  <th>age_r</th>        <td>   -0.1098</td> <td>    0.005</td> <td>  -19.997</td> <td> 0.000</td> <td>   -0.121</td> <td>   -0.099</td>\n",
       "</tr>\n",
       "<tr>\n",
       "  <th>totinc</th>       <td>   -0.0106</td> <td>    0.002</td> <td>   -5.972</td> <td> 0.000</td> <td>   -0.014</td> <td>   -0.007</td>\n",
       "</tr>\n",
       "</table>"
      ],
      "text/plain": [
       "<class 'statsmodels.iolib.summary.Summary'>\n",
       "\"\"\"\n",
       "                          MNLogit Regression Results                          \n",
       "==============================================================================\n",
       "Dep. Variable:               rmarital   No. Observations:                 8884\n",
       "Model:                        MNLogit   Df Residuals:                     8854\n",
       "Method:                           MLE   Df Model:                           25\n",
       "Date:                Mon, 06 Feb 2023   Pseudo R-squ.:                  0.1157\n",
       "Time:                        16:28:09   Log-Likelihood:                -10239.\n",
       "converged:                       True   LL-Null:                       -11579.\n",
       "Covariance Type:            nonrobust   LLR p-value:                     0.000\n",
       "================================================================================\n",
       "  rmarital=2       coef    std err          z      P>|z|      [0.025      0.975]\n",
       "--------------------------------------------------------------------------------\n",
       "Intercept        4.7896      0.279     17.191      0.000       4.244       5.336\n",
       "C(race)[T.2]    -1.0355      0.088    -11.823      0.000      -1.207      -0.864\n",
       "C(race)[T.3]    -0.6363      0.134     -4.739      0.000      -0.899      -0.373\n",
       "educat          -0.2858      0.018    -16.329      0.000      -0.320      -0.252\n",
       "age_r           -0.0662      0.006    -11.468      0.000      -0.077      -0.055\n",
       "totinc          -0.0061      0.002     -3.427      0.001      -0.010      -0.003\n",
       "--------------------------------------------------------------------------------\n",
       "  rmarital=3       coef    std err          z      P>|z|      [0.025      0.975]\n",
       "--------------------------------------------------------------------------------\n",
       "Intercept       -3.9922      0.907     -4.403      0.000      -5.769      -2.215\n",
       "C(race)[T.2]    -0.6376      0.235     -2.713      0.007      -1.098      -0.177\n",
       "C(race)[T.3]     0.1105      0.332      0.332      0.740      -0.541       0.762\n",
       "educat          -0.2871      0.045     -6.428      0.000      -0.375      -0.200\n",
       "age_r            0.1099      0.019      5.800      0.000       0.073       0.147\n",
       "totinc           0.0041      0.003      1.240      0.215      -0.002       0.011\n",
       "--------------------------------------------------------------------------------\n",
       "  rmarital=4       coef    std err          z      P>|z|      [0.025      0.975]\n",
       "--------------------------------------------------------------------------------\n",
       "Intercept       -2.0452      0.294     -6.965      0.000      -2.621      -1.470\n",
       "C(race)[T.2]    -0.5078      0.091     -5.604      0.000      -0.685      -0.330\n",
       "C(race)[T.3]    -0.7637      0.167     -4.560      0.000      -1.092      -0.435\n",
       "educat          -0.0717      0.015     -4.865      0.000      -0.101      -0.043\n",
       "age_r            0.0495      0.006      7.743      0.000       0.037       0.062\n",
       "totinc          -0.0091      0.002     -4.250      0.000      -0.013      -0.005\n",
       "--------------------------------------------------------------------------------\n",
       "  rmarital=5       coef    std err          z      P>|z|      [0.025      0.975]\n",
       "--------------------------------------------------------------------------------\n",
       "Intercept        1.5688      0.333      4.713      0.000       0.916       2.221\n",
       "C(race)[T.2]    -1.2782      0.100    -12.763      0.000      -1.475      -1.082\n",
       "C(race)[T.3]    -0.5778      0.151     -3.835      0.000      -0.873      -0.283\n",
       "educat          -0.1849      0.019     -9.517      0.000      -0.223      -0.147\n",
       "age_r           -0.0117      0.007     -1.660      0.097      -0.026       0.002\n",
       "totinc          -0.0117      0.003     -4.433      0.000      -0.017      -0.007\n",
       "--------------------------------------------------------------------------------\n",
       "  rmarital=6       coef    std err          z      P>|z|      [0.025      0.975]\n",
       "--------------------------------------------------------------------------------\n",
       "Intercept        6.8653      0.263     26.142      0.000       6.351       7.380\n",
       "C(race)[T.2]    -2.3879      0.076    -31.255      0.000      -2.538      -2.238\n",
       "C(race)[T.3]    -1.9798      0.133    -14.925      0.000      -2.240      -1.720\n",
       "educat          -0.2437      0.016    -15.153      0.000      -0.275      -0.212\n",
       "age_r           -0.1098      0.005    -19.997      0.000      -0.121      -0.099\n",
       "totinc          -0.0106      0.002     -5.972      0.000      -0.014      -0.007\n",
       "================================================================================\n",
       "\"\"\""
      ]
     },
     "execution_count": 22,
     "metadata": {},
     "output_type": "execute_result"
    }
   ],
   "source": [
    "formula = ('rmarital ~ C(race) + educat + age_r + totinc')\n",
    "results = smf.mnlogit(formula, data = join).fit()\n",
    "results.summary()\n"
   ]
  },
  {
   "cell_type": "code",
   "execution_count": 23,
   "metadata": {},
   "outputs": [
    {
     "data": {
      "text/html": [
       "<div>\n",
       "<style scoped>\n",
       "    .dataframe tbody tr th:only-of-type {\n",
       "        vertical-align: middle;\n",
       "    }\n",
       "\n",
       "    .dataframe tbody tr th {\n",
       "        vertical-align: top;\n",
       "    }\n",
       "\n",
       "    .dataframe thead th {\n",
       "        text-align: right;\n",
       "    }\n",
       "</style>\n",
       "<table border=\"1\" class=\"dataframe\">\n",
       "  <thead>\n",
       "    <tr style=\"text-align: right;\">\n",
       "      <th></th>\n",
       "      <th>0</th>\n",
       "      <th>1</th>\n",
       "      <th>2</th>\n",
       "      <th>3</th>\n",
       "      <th>4</th>\n",
       "      <th>5</th>\n",
       "    </tr>\n",
       "  </thead>\n",
       "  <tbody>\n",
       "    <tr>\n",
       "      <th>0</th>\n",
       "      <td>0.581084</td>\n",
       "      <td>0.143774</td>\n",
       "      <td>0.002954</td>\n",
       "      <td>0.05965</td>\n",
       "      <td>0.05546</td>\n",
       "      <td>0.157078</td>\n",
       "    </tr>\n",
       "  </tbody>\n",
       "</table>\n",
       "</div>"
      ],
      "text/plain": [
       "          0         1         2        3        4         5\n",
       "0  0.581084  0.143774  0.002954  0.05965  0.05546  0.157078"
      ]
     },
     "execution_count": 23,
     "metadata": {},
     "output_type": "execute_result"
    }
   ],
   "source": [
    "columns = ['age_r','race', 'totinc', 'educat']\n",
    "new = pd.DataFrame([[25, 2, 11, 12]], columns = columns)\n",
    "y = results.predict(new)\n",
    "y"
   ]
  },
  {
   "cell_type": "code",
   "execution_count": null,
   "metadata": {},
   "outputs": [],
   "source": [
    "#my 11-3 matches but not my 11-4. also, what is r2??? "
   ]
  }
 ],
 "metadata": {
  "kernelspec": {
   "display_name": "Python 3 (ipykernel)",
   "language": "python",
   "name": "python3"
  },
  "language_info": {
   "codemirror_mode": {
    "name": "ipython",
    "version": 3
   },
   "file_extension": ".py",
   "mimetype": "text/x-python",
   "name": "python",
   "nbconvert_exporter": "python",
   "pygments_lexer": "ipython3",
   "version": "3.9.5"
  },
  "vscode": {
   "interpreter": {
    "hash": "369f2c481f4da34e4445cda3fffd2e751bd1c4d706f27375911949ba6bb62e1c"
   }
  }
 },
 "nbformat": 4,
 "nbformat_minor": 2
}
